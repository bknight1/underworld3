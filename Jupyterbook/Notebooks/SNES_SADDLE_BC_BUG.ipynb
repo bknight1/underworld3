{
 "cells": [
  {
   "cell_type": "markdown",
   "id": "c8475782-0583-441b-aed8-26c89d7796b7",
   "metadata": {},
   "source": [
    "# Bug / Issue\n",
    "\n",
    "Boundary conditions that are JIT functions are not correctly handled by the \n",
    "saddle point solver. These work for Poisson / Poisson-Vector problems just fine\n",
    "but something seems to go wrong during the SNES solve for saddle point problems.\n",
    "\n",
    "Sometimes this seems to be true for sympy functions, sometimes not, but it is \n",
    "reproducible if the uw function is a mesh variable of any kind. \n",
    "\n",
    "In the example below, this fails for the saddle point system.\n",
    "```\n",
    "incompressible_vector_projection.add_dirichlet_bc( (s_soln.fn,0.0), \"Bottom\" , (1,) )\n",
    "```\n",
    "but this works\n",
    "```\n",
    "incompressible_vector_projection.add_dirichlet_bc( (0.0,0.0), \"Bottom\" , (1,) )\n",
    "```\n",
    "and apparently, so does a sympy function of x,y that must also be compiled. "
   ]
  },
  {
   "cell_type": "code",
   "execution_count": 1,
   "id": "1f7c18d8-d76e-43e5-8db3-68b5a66a9b63",
   "metadata": {},
   "outputs": [],
   "source": [
    "import petsc4py\n",
    "import underworld3 as uw\n",
    "import numpy as np"
   ]
  },
  {
   "cell_type": "code",
   "execution_count": 2,
   "id": "f3cdcb9e-c170-4041-a316-a21844b3cb93",
   "metadata": {},
   "outputs": [],
   "source": [
    "meshbox = uw.util_mesh.UnstructuredSimplexBox(\n",
    "                                             minCoords=(0.0,0.0), \n",
    "                                             maxCoords=(1.0,1.0), \n",
    "                                             cellSize=1.0/32.0, \n",
    "                                             regular=True)"
   ]
  },
  {
   "cell_type": "code",
   "execution_count": 3,
   "id": "63bc2676-f4e8-4824-92fa-ed5155cf356d",
   "metadata": {},
   "outputs": [],
   "source": [
    "# Doesn't matter which element type - this one is also broken !\n",
    "# meshbox = uw.util_mesh.StructuredQuadBox(\n",
    "#                                            minCoords=(0.0,0.0), \n",
    "#                                            maxCoords=(1.0,1.0), \n",
    "#                                            elementRes=(32,32)\n",
    "# )"
   ]
  },
  {
   "cell_type": "code",
   "execution_count": 4,
   "id": "6095c48b-080e-4895-b2d6-4db8247e2bd9",
   "metadata": {},
   "outputs": [],
   "source": [
    "import sympy\n",
    "\n",
    "# Some useful coordinate stuff \n",
    "\n",
    "x = meshbox.N.x\n",
    "y = meshbox.N.y\n",
    "z = meshbox.N.z"
   ]
  },
  {
   "cell_type": "code",
   "execution_count": 5,
   "id": "25ba24c2-2c72-46d4-b58a-b66ebc30f511",
   "metadata": {},
   "outputs": [],
   "source": [
    "# Project values from a swarm to a mesh variable (with bcs)\n",
    "\n",
    "swarm  = uw.swarm.Swarm(mesh=meshbox)\n",
    "s_values  = uw.swarm.SwarmVariable(\"Ss\", swarm, 1,           proxy_degree=3)\n",
    "v_values  = uw.swarm.SwarmVariable(\"Vs\", swarm, meshbox.dim, proxy_degree=3)\n",
    "iv_values = uw.swarm.SwarmVariable(\"Vi\", swarm, meshbox.dim, proxy_degree=3)\n",
    "\n",
    "swarm.populate(fill_param=3)"
   ]
  },
  {
   "cell_type": "code",
   "execution_count": 6,
   "id": "8333cd63-1a39-4f4d-97e0-4451510e0a7e",
   "metadata": {},
   "outputs": [],
   "source": [
    "s_soln  = uw.mesh.MeshVariable(\"T\",    meshbox,  1,            degree=2 )\n",
    "v_soln  = uw.mesh.MeshVariable('U',    meshbox,  meshbox.dim,  degree=2 )\n",
    "iv_soln = uw.mesh.MeshVariable('IU',   meshbox,  meshbox.dim,  degree=2 )"
   ]
  },
  {
   "cell_type": "code",
   "execution_count": 7,
   "id": "d472fd88-b867-4661-8308-5ba3c9872dc7",
   "metadata": {},
   "outputs": [],
   "source": [
    "s_fn = sympy.cos(5.0*sympy.pi * x) * sympy.cos(5.0*sympy.pi * y)\n",
    "sv_fn = meshbox.vector.gradient(s_fn)"
   ]
  },
  {
   "cell_type": "code",
   "execution_count": 8,
   "id": "879ed7cd-9db9-4426-a625-82809f9f03aa",
   "metadata": {},
   "outputs": [],
   "source": [
    "vector_projection = uw.systems.Vector_Projection(meshbox, v_soln)\n",
    "vector_projection.uw_function = v_values.f\n",
    "vector_projection.smoothing = 1.0e-3\n",
    "\n",
    "# Velocity boundary conditions (compare left / right walls in the soln !)\n",
    "\n",
    "vector_projection.add_dirichlet_bc( (0.0,), \"Left\" ,   (0,) )\n",
    "vector_projection.add_dirichlet_bc( (0.0,), \"Right\" ,  (0,) )\n",
    "vector_projection.add_dirichlet_bc( (0.0,), \"Top\" ,    (1,) )\n",
    "vector_projection.add_dirichlet_bc( (s_soln.fn, ), \"Bottom\" , (1,) )"
   ]
  },
  {
   "cell_type": "code",
   "execution_count": 9,
   "id": "89a9e966-bd54-4182-8c1c-28cee261fff1",
   "metadata": {},
   "outputs": [],
   "source": [
    "# try to enforce incompressibility\n",
    "\n",
    "incompressible_vector_projection = uw.systems.Solenoidal_Vector_Projection(meshbox, iv_soln)\n",
    "incompressible_vector_projection.uw_function =  sv_fn\n",
    "incompressible_vector_projection.smoothing = 1.0e-3  # see how well it works !\n",
    "\n",
    "# Velocity boundary conditions (compare left / right walls in the soln !)\n",
    "incompressible_vector_projection.add_dirichlet_bc( (0.0,), \"Left\" ,   (0,) )\n",
    "incompressible_vector_projection.add_dirichlet_bc( (0.0,), \"Right\" ,  (0,) )\n",
    "incompressible_vector_projection.add_dirichlet_bc( (0.0,), \"Top\" ,    (1,) )\n",
    "incompressible_vector_projection.add_dirichlet_bc( (s_soln.fn, ), \"Bottom\" , (1,) )"
   ]
  },
  {
   "cell_type": "code",
   "execution_count": 10,
   "id": "74fc6890-96bb-49ba-a416-76ea6a9de820",
   "metadata": {},
   "outputs": [],
   "source": [
    "with swarm.access(s_values, v_values, iv_values):\n",
    "    s_values.data[:,0]  = uw.function.evaluate(s_fn, swarm.data)    \n",
    "    v_values.data[:,0]  = uw.function.evaluate(sympy.cos(5.0*sympy.pi * x) * sympy.cos(5.0*sympy.pi * y), swarm.data)    \n",
    "    v_values.data[:,1]  = uw.function.evaluate(sympy.sin(5.0*sympy.pi * x) * sympy.sin(5.0*sympy.pi * y), swarm.data)\n",
    "    iv_values.data[:,0] = uw.function.evaluate(sympy.vector.curl(v_soln.fn).dot(meshbox.N.i), swarm.data)    \n",
    "    iv_values.data[:,1] = uw.function.evaluate(sympy.vector.curl(v_soln.fn).dot(meshbox.N.j), swarm.data)    "
   ]
  },
  {
   "cell_type": "code",
   "execution_count": 11,
   "id": "12ee45fa-8761-4b7e-a7d4-3f5fd5dcddf3",
   "metadata": {},
   "outputs": [
    {
     "name": "stdout",
     "output_type": "stream",
     "text": [
      "  0 SNES Function norm 0.0124731 \n",
      "    Residual norms for VProj1_ solve.\n",
      "    0 KSP Residual norm 1.247310381572e-02 \n",
      "    1 KSP Residual norm 9.719335137827e-03 \n",
      "    2 KSP Residual norm 1.510511014108e-03 \n",
      "    3 KSP Residual norm 5.868799298067e-04 \n",
      "    4 KSP Residual norm 2.323208892874e-04 \n",
      "    5 KSP Residual norm 7.381165585584e-05 \n",
      "    6 KSP Residual norm 3.025643958251e-05 \n",
      "    7 KSP Residual norm 1.007938249575e-05 \n",
      "  1 SNES Function norm 1.00794e-05 \n",
      "Nonlinear VProj1_ solve converged due to CONVERGED_FNORM_RELATIVE iterations 1\n"
     ]
    }
   ],
   "source": [
    "vector_projection.solve()"
   ]
  },
  {
   "cell_type": "code",
   "execution_count": null,
   "id": "f807ceaa-82ef-444c-950a-c941a265d738",
   "metadata": {},
   "outputs": [
    {
     "name": "stdout",
     "output_type": "stream",
     "text": [
      "  0 SNES Function norm 0.196986 \n",
      "    Residual norms for iVProj1_ solve.\n",
      "    0 KSP Residual norm 2.992412855221e+01 \n"
     ]
    }
   ],
   "source": [
    "incompressible_vector_projection.solve()"
   ]
  },
  {
   "cell_type": "code",
   "execution_count": null,
   "id": "2c8be56a-dea2-4673-aa11-56b943e7aced",
   "metadata": {},
   "outputs": [],
   "source": []
  }
 ],
 "metadata": {
  "kernelspec": {
   "display_name": "Python 3 (ipykernel)",
   "language": "python",
   "name": "python3"
  },
  "language_info": {
   "codemirror_mode": {
    "name": "ipython",
    "version": 3
   },
   "file_extension": ".py",
   "mimetype": "text/x-python",
   "name": "python",
   "nbconvert_exporter": "python",
   "pygments_lexer": "ipython3",
   "version": "3.9.13"
  }
 },
 "nbformat": 4,
 "nbformat_minor": 5
}
